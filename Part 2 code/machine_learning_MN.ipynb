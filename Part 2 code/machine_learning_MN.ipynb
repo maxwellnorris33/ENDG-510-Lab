{
 "cells": [
  {
   "cell_type": "markdown",
   "metadata": {},
   "source": [
    "## GIVEN MODEL"
   ]
  },
  {
   "cell_type": "code",
   "execution_count": null,
   "metadata": {},
   "outputs": [],
   "source": [
    "#load class\n",
    "import numpy as np\n",
    "import pandas as pd # in case it's not installed then install using conda create -c conda-forge -n name_of_my_env python pandas\n",
    "# more installations information can be found: https://pandas.pydata.org/docs/getting_started/install.html\n",
    "import os\n",
    "#load sklearn module for creating and evaluating ML models. In case sklearn isn't installed,\n",
    "#follow this link https://scikit-learn.org/stable/install.html for further details on the installation process.\n",
    "from sklearn.neighbors import KNeighborsClassifier #load your classifier. In this code, I have used KNN. You can choose other algorithms. You have to use at least 3 to complete this.\n",
    "from sklearn.preprocessing import StandardScaler #module for perform scaling\n",
    "\n",
    "from sklearn.model_selection import train_test_split #module for splitting datatset\n",
    "from sklearn import metrics #module for evaluating performance\n",
    "\n",
    "#load your data\n",
    "df = pd.read_csv(\"data.csv\") #change the name accordingly\n",
    "df.head() # prints top 5 rows from the datatset to check data is load or not\n",
    "\n",
    "# Check for missing values\n",
    "missing_values = df.isnull().sum()\n",
    "print(\"Missing Values:\\n\", missing_values)\n",
    "\n",
    "# remove duplicatesd\n",
    "df = df.drop_duplicates()\n",
    "\n",
    "# prepare features\n",
    "x = df.drop(['Label'],axis=1) #remove class or label\n",
    "y = df['Label'] #load label\n",
    "\n",
    "x_train,x_test,y_train,y_test = train_test_split(x,y,test_size=.2) #split datatset. Here ratio is 80:20. Change accordingly\n",
    "\n",
    "# Scale the data using standardization\n",
    "scaler = StandardScaler()\n",
    "x_train = scaler.fit_transform(x_train) #scale training set\n",
    "x_test = scaler.transform(x_test) #scale test set\n",
    "\n",
    "z = KNeighborsClassifier(n_neighbors=3) # KNN classifier for 3 neighbours\n",
    "KNN = z.fit(x_train,y_train) # start training\n",
    "predict = KNN.predict(x_test) # performance in the test set\n",
    "\n",
    "print(\"Accuracy:\", metrics.accuracy_score(y_test,predict)) # evaluating the performance based on accuracy\n",
    "\n",
    "# library for save and load scikit-learn models\n",
    "import pickle\n",
    "# file name, recommending *.pickle as a file extension\n",
    "filename = \"model.pickle\"\n",
    "# save model\n",
    "pickle.dump(z, open(filename, \"wb\"))\n"
   ]
  },
  {
   "cell_type": "markdown",
   "metadata": {},
   "source": [
    "## Model #2"
   ]
  },
  {
   "cell_type": "code",
   "execution_count": null,
   "metadata": {},
   "outputs": [],
   "source": [
    "#code here - max"
   ]
  },
  {
   "cell_type": "markdown",
   "metadata": {},
   "source": [
    "## Model #3"
   ]
  },
  {
   "cell_type": "code",
   "execution_count": null,
   "metadata": {},
   "outputs": [],
   "source": [
    "#code here - someone else"
   ]
  },
  {
   "cell_type": "markdown",
   "metadata": {},
   "source": [
    "## Model Comparison"
   ]
  },
  {
   "cell_type": "code",
   "execution_count": null,
   "metadata": {},
   "outputs": [],
   "source": [
    "# create some cool graphs or tables to compare the models here"
   ]
  }
 ],
 "metadata": {
  "language_info": {
   "name": "python"
  }
 },
 "nbformat": 4,
 "nbformat_minor": 2
}
