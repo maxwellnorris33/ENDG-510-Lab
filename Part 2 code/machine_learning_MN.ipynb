{
 "cells": [
  {
   "cell_type": "markdown",
   "metadata": {},
   "source": [
    "## GIVEN MODEL - Nearest Neighbors"
   ]
  },
  {
   "cell_type": "code",
   "execution_count": 4,
   "metadata": {},
   "outputs": [
    {
     "name": "stdout",
     "output_type": "stream",
     "text": [
      "   Temp  Humd  Label\n",
      "0  21.0  38.0    1.0\n",
      "1  21.0  38.0    1.0\n",
      "2  21.0  38.0    1.0\n",
      "3  21.0  38.0    1.0\n",
      "4  21.0  38.0    1.0\n",
      "Missing Values:\n",
      " Temp     0\n",
      "Humd     0\n",
      "Label    0\n",
      "dtype: int64\n",
      "Accuracy: 0.9411764705882353\n"
     ]
    }
   ],
   "source": [
    "#load class\n",
    "import numpy as np\n",
    "import pandas as pd # in case it's not installed then install using conda create -c conda-forge -n name_of_my_env python pandas\n",
    "# more installations information can be found: https://pandas.pydata.org/docs/getting_started/install.html\n",
    "import os\n",
    "#load sklearn module for creating and evaluating ML models. In case sklearn isn't installed,\n",
    "#follow this link https://scikit-learn.org/stable/install.html for further details on the installation process.\n",
    "from sklearn.neighbors import KNeighborsClassifier #load your classifier. In this code, I have used KNN. You can choose other algorithms. You have to use at least 3 to complete this.\n",
    "from sklearn.preprocessing import StandardScaler #module for perform scaling\n",
    "\n",
    "from sklearn.model_selection import train_test_split #module for splitting datatset\n",
    "from sklearn import metrics #module for evaluating performance\n",
    "\n",
    "#load your data\n",
    "df = pd.read_csv(\"../data/modified_data.csv\") #change the name accordingly\n",
    "print(df.head()) # prints top 5 rows from the datatset to check data is load or not\n",
    "\n",
    "# Check for missing values\n",
    "missing_values = df.isnull().sum()\n",
    "print(\"Missing Values:\\n\", missing_values)\n",
    "\n",
    "# remove duplicatesd\n",
    "df = df.drop_duplicates()\n",
    "\n",
    "# prepare features\n",
    "x = df.drop(['Label'],axis=1) #remove class or label\n",
    "y = df['Label'] #load label\n",
    "\n",
    "x_train,x_test,y_train,y_test = train_test_split(x,y,test_size=.2, random_state=5353) #split datatset. Here ratio is 80:20. Change accordingly\n",
    "\n",
    "#---> I added random state here so we can have the same training and test sets on all model tests\n",
    "\n",
    "\n",
    "# Scale the data using standardization\n",
    "scaler = StandardScaler()\n",
    "x_train = scaler.fit_transform(x_train) #scale training set\n",
    "x_test = scaler.transform(x_test) #scale test set\n",
    "\n",
    "z = KNeighborsClassifier(n_neighbors=3) # KNN classifier for 3 neighbours\n",
    "KNN = z.fit(x_train,y_train) # start training\n",
    "predict = KNN.predict(x_test) # performance in the test set\n",
    "RF_acc = round(metrics.accuracy_score(y_test,predict), 3)\n",
    "print(\"Accuracy:\", metrics.accuracy_score(y_test,predict)) # evaluating the performance based on accuracy\n",
    "\n",
    "# library for save and load scikit-learn models\n",
    "import pickle\n",
    "# file name, recommending *.pickle as a file extension\n",
    "filename = \"model.pickle\"\n",
    "# save model\n",
    "pickle.dump(z, open(filename, \"wb\"))\n"
   ]
  },
  {
   "cell_type": "markdown",
   "metadata": {},
   "source": [
    "## Model #2 - Random Forest Classifier"
   ]
  },
  {
   "cell_type": "code",
   "execution_count": 6,
   "metadata": {},
   "outputs": [],
   "source": [
    "#importing libraries\n",
    "import numpy as np\n",
    "import pandas as pd\n",
    "from sklearn.ensemble import RandomForestClassifier as RFC #importing desired model\n",
    "from sklearn.preprocessing import StandardScaler #module for perform scaling\n",
    "from sklearn.model_selection import train_test_split #module for splitting datatset\n",
    "from sklearn import metrics #module for evaluating performance"
   ]
  },
  {
   "cell_type": "code",
   "execution_count": 27,
   "metadata": {},
   "outputs": [
    {
     "name": "stdout",
     "output_type": "stream",
     "text": [
      "   Temp  Humd  Label\n",
      "0  21.0  38.0    1.0\n",
      "1  21.0  38.0    1.0\n",
      "2  21.0  38.0    1.0\n",
      "3  21.0  38.0    1.0\n",
      "4  21.0  38.0    1.0\n",
      "Missing Values:\n",
      " Temp     0\n",
      "Humd     0\n",
      "Label    0\n",
      "dtype: int64\n"
     ]
    }
   ],
   "source": [
    "#loading and preparing data\n",
    "df = pd.read_csv(\"../data/modified_data.csv\") #change the name accordingly\n",
    "print(df.head()) # prints top 5 rows from the datatset to check data is load or not\n",
    "\n",
    "# Check for missing values\n",
    "missing_values = df.isnull().sum()\n",
    "print(\"Missing Values:\\n\", missing_values)\n",
    "\n",
    "# prepare features\n",
    "x = df.drop(['Label'],axis=1) #remove class or label\n",
    "y = df['Label'] #load label\n",
    "\n",
    "# Scale the data using standardization\n",
    "scaler = StandardScaler()\n",
    "x_train = scaler.fit_transform(x_train) #scale training set\n",
    "x_test = scaler.transform(x_test) #scale test set"
   ]
  },
  {
   "cell_type": "code",
   "execution_count": 40,
   "metadata": {},
   "outputs": [
    {
     "name": "stdout",
     "output_type": "stream",
     "text": [
      "done.\n"
     ]
    }
   ],
   "source": [
    "#creating training and testing sets with random state set to 5353 so models are more comparable\n",
    "x_train,x_test,y_train,y_test = train_test_split(x,y,test_size=.2, random_state=5353)\n",
    "# Scale the data using standardization\n",
    "scaler = StandardScaler()\n",
    "x_train = scaler.fit_transform(x_train) #scale training set\n",
    "x_test = scaler.transform(x_test) #scale test set\n",
    "print(\"done.\")"
   ]
  },
  {
   "cell_type": "code",
   "execution_count": 35,
   "metadata": {},
   "outputs": [
    {
     "name": "stdout",
     "output_type": "stream",
     "text": [
      "done.\n"
     ]
    }
   ],
   "source": [
    "#model creationg using a random forest model\n",
    "forest = RFC(max_depth=2, random_state=0, n_estimators=1000)\n",
    "model_forest = forest.fit(x_train, y_train)\n",
    "print(\"done.\")"
   ]
  },
  {
   "cell_type": "code",
   "execution_count": 36,
   "metadata": {},
   "outputs": [
    {
     "name": "stdout",
     "output_type": "stream",
     "text": [
      "Accuracy: 0.9850746268656716\n"
     ]
    }
   ],
   "source": [
    "#model accuracy\n",
    "predict_forest = model_forest.predict(x_test) # performance in the test set\n",
    "print(\"Accuracy:\", metrics.accuracy_score(y_test,predict_forest))"
   ]
  },
  {
   "cell_type": "code",
   "execution_count": 26,
   "metadata": {},
   "outputs": [],
   "source": [
    "# library for save and load scikit-learn models\n",
    "import pickle\n",
    "# file name, recommending *.pickle as a file extension\n",
    "filename = \"model_forest.pickle\"\n",
    "# save model\n",
    "pickle.dump(z, open(filename, \"wb\"))"
   ]
  },
  {
   "cell_type": "markdown",
   "metadata": {},
   "source": [
    "## Model #3"
   ]
  },
  {
   "cell_type": "code",
   "execution_count": null,
   "metadata": {},
   "outputs": [],
   "source": [
    "#code here - someone else"
   ]
  },
  {
   "cell_type": "code",
   "execution_count": null,
   "metadata": {},
   "outputs": [],
   "source": []
  },
  {
   "cell_type": "markdown",
   "metadata": {},
   "source": [
    "## Model Comparison"
   ]
  },
  {
   "cell_type": "code",
   "execution_count": 1,
   "metadata": {},
   "outputs": [],
   "source": [
    "# create some cool graphs or tables to compare the models here\n",
    "import matplotlib.pyplot as plt\n",
    "from matplotlib.colors import ListedColormap\n",
    "from sklearn.inspection import DecisionBoundaryDisplay #note you need sklearn v1.1 to use this"
   ]
  },
  {
   "cell_type": "code",
   "execution_count": null,
   "metadata": {},
   "outputs": [],
   "source": [
    "#requires all previous cells to have been run\n",
    "\n",
    "#some variables and labels for the plots\n",
    "names = [\"Given model (KNN)\", \"Random Forest Classifier\"]\n",
    "accuracies = [round(metrics.accuracy_score(y_test,predict), 3),\n",
    "              round(metrics.accuracy_score(y_test,predict_forest), 3)]\n",
    "xmin, xmax = x_train[:,0].min(), x_train[:,0].max()\n",
    "ymin, ymax = x_train[:,1].min(), x_train[:,1].max()\n",
    "\n",
    "#creating figure\n",
    "figure = plt.figure(figsize=(15,5))\n",
    "i = 1\n",
    "\n",
    "#iterate over names to plot data\n",
    "for n in names:\n",
    "    #ploting the data first\n",
    "    colour = plt.cm.RbBu\n",
    "    colour_b = ListedColormap([\"#FF0000\",\"#0000FF\"])\n",
    "    ax = plt.subplot(1,len(names),i)\n",
    "    #adding training data to graphs\n",
    "    #alpha set to 0.6 to make distinguishable\n",
    "    ax.scatter(x_train[:,0], x_train[:,1], c=y_train, cmap=colour_b, alpha=0.6, edgecolors=\"k\")\n",
    "    #adding test data to graphs\n",
    "    ax.scatter(x_test[:,0], x_test[:,1], c=y_test, cmap=colour_b, alpha=1, edgecolors=\"k\")\n",
    "    ax.set_xlim(xmin, xmax)\n",
    "    ax.set_ylim(ymin,ymax)\n",
    "    ax.set_xticks(())\n",
    "    ax.set_yticks(())\n",
    "    i += 1\n",
    "\n",
    "    # iterate over names to plot predictions\n",
    "    for n in names:\n",
    "        ax = plt.subplot(1,len(names),i)\n",
    "        if n == \"Given model (KNN)\":\n",
    "            DecisionBoundaryDisplay.from_estimator()\n",
    "        elif n == \"Random Forest Classifier\":\n",
    "            \n",
    "\n",
    "\n",
    "plt.tight_layout()\n",
    "plt.show()\n"
   ]
  }
 ],
 "metadata": {
  "kernelspec": {
   "display_name": "ensf-ml",
   "language": "python",
   "name": "python3"
  },
  "language_info": {
   "codemirror_mode": {
    "name": "ipython",
    "version": 3
   },
   "file_extension": ".py",
   "mimetype": "text/x-python",
   "name": "python",
   "nbconvert_exporter": "python",
   "pygments_lexer": "ipython3",
   "version": "3.8.18"
  }
 },
 "nbformat": 4,
 "nbformat_minor": 2
}
